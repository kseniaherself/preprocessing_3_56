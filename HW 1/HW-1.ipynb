{
 "cells": [
  {
   "cell_type": "markdown",
   "metadata": {},
   "source": [
    "# Assignment 1"
   ]
  },
  {
   "cell_type": "markdown",
   "metadata": {},
   "source": [
    "##### Ksenia Romanova "
   ]
  },
  {
   "cell_type": "code",
   "execution_count": 1,
   "metadata": {},
   "outputs": [
    {
     "name": "stdout",
     "output_type": "stream",
     "text": [
      "Collecting gensim\n",
      "  Downloading gensim-3.8.3-cp38-cp38-macosx_10_9_x86_64.whl (24.2 MB)\n",
      "\u001b[K     |████████████████████████████████| 24.2 MB 2.1 MB/s eta 0:00:01    |████                            | 3.1 MB 763 kB/s eta 0:00:28     |██████▌                         | 4.9 MB 628 kB/s eta 0:00:31\n",
      "\u001b[?25hRequirement already satisfied: six>=1.5.0 in ./opt/anaconda3/lib/python3.8/site-packages (from gensim) (1.15.0)\n",
      "Collecting smart-open>=1.8.1\n",
      "  Using cached smart_open-2.2.1.tar.gz (122 kB)\n",
      "Requirement already satisfied: scipy>=0.18.1 in ./opt/anaconda3/lib/python3.8/site-packages (from gensim) (1.5.0)\n",
      "Requirement already satisfied: numpy>=1.11.3 in ./opt/anaconda3/lib/python3.8/site-packages (from gensim) (1.18.5)\n",
      "Requirement already satisfied: requests in ./opt/anaconda3/lib/python3.8/site-packages (from smart-open>=1.8.1->gensim) (2.24.0)\n",
      "Collecting boto3\n",
      "  Using cached boto3-1.15.13.tar.gz (97 kB)\n",
      "Requirement already satisfied: chardet<4,>=3.0.2 in ./opt/anaconda3/lib/python3.8/site-packages (from requests->smart-open>=1.8.1->gensim) (3.0.4)\n",
      "Requirement already satisfied: idna<3,>=2.5 in ./opt/anaconda3/lib/python3.8/site-packages (from requests->smart-open>=1.8.1->gensim) (2.10)\n",
      "Requirement already satisfied: certifi>=2017.4.17 in ./opt/anaconda3/lib/python3.8/site-packages (from requests->smart-open>=1.8.1->gensim) (2020.6.20)\n",
      "Requirement already satisfied: urllib3!=1.25.0,!=1.25.1,<1.26,>=1.21.1 in ./opt/anaconda3/lib/python3.8/site-packages (from requests->smart-open>=1.8.1->gensim) (1.25.9)\n",
      "Collecting botocore<1.19.0,>=1.18.13\n",
      "  Using cached botocore-1.18.13-py2.py3-none-any.whl (6.7 MB)\n",
      "Collecting jmespath<1.0.0,>=0.7.1\n",
      "  Using cached jmespath-0.10.0-py2.py3-none-any.whl (24 kB)\n",
      "Collecting s3transfer<0.4.0,>=0.3.0\n",
      "  Using cached s3transfer-0.3.3-py2.py3-none-any.whl (69 kB)\n",
      "Requirement already satisfied: python-dateutil<3.0.0,>=2.1 in ./opt/anaconda3/lib/python3.8/site-packages (from botocore<1.19.0,>=1.18.13->boto3->smart-open>=1.8.1->gensim) (2.8.1)\n",
      "Building wheels for collected packages: smart-open, boto3\n",
      "  Building wheel for smart-open (setup.py) ... \u001b[?25ldone\n",
      "\u001b[?25h  Created wheel for smart-open: filename=smart_open-2.2.1-py3-none-any.whl size=114113 sha256=be2d2385dbe4e8b3725f1a7ef80a2ce230707b5bb2bc366580b2584eef53db6a\n",
      "  Stored in directory: /Users/Xenia/Library/Caches/pip/wheels/b6/6a/26/b0a146ee7d0fca1a80ee870ec234c455d704249f2bab1f8809\n",
      "  Building wheel for boto3 (setup.py) ... \u001b[?25ldone\n",
      "\u001b[?25h  Created wheel for boto3: filename=boto3-1.15.13-py2.py3-none-any.whl size=127861 sha256=f8aad8b3a079588855701bd325c2ab057efb1fe5105a420d90dc0b7a66256c73\n",
      "  Stored in directory: /Users/Xenia/Library/Caches/pip/wheels/56/42/26/78fbbae1689c7a753b7c84385f7fd1b48160e7bea67d1119b1\n",
      "Successfully built smart-open boto3\n",
      "Installing collected packages: jmespath, botocore, s3transfer, boto3, smart-open, gensim\n",
      "Successfully installed boto3-1.15.13 botocore-1.18.13 gensim-3.8.3 jmespath-0.10.0 s3transfer-0.3.3 smart-open-2.2.1\n"
     ]
    }
   ],
   "source": [
    "!pip install gensim"
   ]
  },
  {
   "cell_type": "code",
   "execution_count": 5,
   "metadata": {},
   "outputs": [
    {
     "name": "stdout",
     "output_type": "stream",
     "text": [
      "Collecting pymystem3\n",
      "  Using cached pymystem3-0.2.0-py3-none-any.whl (10 kB)\n",
      "Requirement already satisfied: requests in ./opt/anaconda3/lib/python3.8/site-packages (from pymystem3) (2.24.0)\n",
      "Requirement already satisfied: certifi>=2017.4.17 in ./opt/anaconda3/lib/python3.8/site-packages (from requests->pymystem3) (2020.6.20)\n",
      "Requirement already satisfied: chardet<4,>=3.0.2 in ./opt/anaconda3/lib/python3.8/site-packages (from requests->pymystem3) (3.0.4)\n",
      "Requirement already satisfied: idna<3,>=2.5 in ./opt/anaconda3/lib/python3.8/site-packages (from requests->pymystem3) (2.10)\n",
      "Requirement already satisfied: urllib3!=1.25.0,!=1.25.1,<1.26,>=1.21.1 in ./opt/anaconda3/lib/python3.8/site-packages (from requests->pymystem3) (1.25.9)\n",
      "Installing collected packages: pymystem3\n",
      "Successfully installed pymystem3-0.2.0\n"
     ]
    }
   ],
   "source": [
    "!pip install pymystem3"
   ]
  },
  {
   "cell_type": "code",
   "execution_count": 6,
   "metadata": {},
   "outputs": [
    {
     "name": "stdout",
     "output_type": "stream",
     "text": [
      "Collecting pymorphy2\n",
      "  Downloading pymorphy2-0.9.1-py3-none-any.whl (55 kB)\n",
      "\u001b[K     |████████████████████████████████| 55 kB 774 kB/s eta 0:00:01\n",
      "\u001b[?25hProcessing ./Library/Caches/pip/wheels/9b/04/dd/7daf4150b6d9b12949298737de9431a324d4b797ffd63f526e/docopt-0.6.2-py2.py3-none-any.whl\n",
      "Collecting pymorphy2-dicts-ru<3.0,>=2.4\n",
      "  Downloading pymorphy2_dicts_ru-2.4.404381.4453942-py2.py3-none-any.whl (8.0 MB)\n",
      "\u001b[K     |████████████████████████████████| 8.0 MB 350 bytes/s  0:00:01     |███████████▉                    | 3.0 MB 2.4 MB/s eta 0:00:03     |██████████████▎                 | 3.6 MB 2.4 MB/s eta 0:00:02     |████████████████████▌           | 5.1 MB 1.8 MB/s eta 0:00:02     |████████████████████████████████| 8.0 MB 2.5 MB/s eta 0:00:01\n",
      "\u001b[?25hCollecting dawg-python>=0.7.1\n",
      "  Using cached DAWG_Python-0.7.2-py2.py3-none-any.whl (11 kB)\n",
      "Installing collected packages: docopt, pymorphy2-dicts-ru, dawg-python, pymorphy2\n",
      "Successfully installed dawg-python-0.7.2 docopt-0.6.2 pymorphy2-0.9.1 pymorphy2-dicts-ru-2.4.404381.4453942\n"
     ]
    }
   ],
   "source": [
    "!pip install pymorphy2"
   ]
  },
  {
   "cell_type": "markdown",
   "metadata": {},
   "source": [
    "### 1. Choose a long text (a novel), do preprocessing on it (delete punctuation, lemmatize it) -- 2 points "
   ]
  },
  {
   "cell_type": "code",
   "execution_count": 1,
   "metadata": {},
   "outputs": [],
   "source": [
    "import re\n",
    "import gensim\n",
    "import logging\n",
    "import nltk.data\n",
    "import pandas as pd\n",
    "import urllib.request\n",
    "from bs4 import BeautifulSoup\n",
    "from nltk.corpus import stopwords\n",
    "from gensim.models import word2vec\n",
    "\n",
    "import warnings\n",
    "warnings.filterwarnings('ignore')"
   ]
  },
  {
   "cell_type": "code",
   "execution_count": 2,
   "metadata": {},
   "outputs": [],
   "source": [
    "logging.basicConfig(format='%(asctime)s : %(levelname)s : %(message)s', level=logging.INFO)"
   ]
  },
  {
   "cell_type": "code",
   "execution_count": 3,
   "metadata": {},
   "outputs": [
    {
     "name": "stderr",
     "output_type": "stream",
     "text": [
      "100%|██████████| 4599/4599 [00:11<00:00, 395.11it/s]\n"
     ]
    }
   ],
   "source": [
    "from tqdm import tqdm\n",
    "from pymystem3 import Mystem\n",
    "\n",
    "m = Mystem()\n",
    "sw = stopwords.words('russian')\n",
    "\n",
    "with open('didiot.txt', 'r', encoding='utf8') as f:\n",
    "    text = f.readlines()\n",
    "\n",
    "new_lines = []\n",
    "\n",
    "for line in tqdm(text):\n",
    "    line = ' '.join([w for w in line.split() if w not in sw])\n",
    "    newline = ''.join(m.lemmatize(line))\n",
    "    new_lines.append(newline)\n",
    "        \n",
    "with open('didiot_lem.txt', 'w', encoding='utf8') as f1:\n",
    "    for line in new_lines:\n",
    "        f1.write(line)"
   ]
  },
  {
   "cell_type": "code",
   "execution_count": 4,
   "metadata": {},
   "outputs": [],
   "source": [
    "punc = '''!()-[]{};:'\"\\, <>./?@#$%^&*_~'''\n",
    "\n",
    "with open('didiot_lem.txt', 'r', encoding='utf8') as f11:\n",
    "    text_punc = f11.read()\n",
    "\n",
    "#new_lines_no_punc = []\n",
    "\n",
    "#for line in text_pinc:\n",
    "for ele in text_punc: #line: \n",
    "    if ele in punc: \n",
    "        text_punc = text_punc.replace(ele, \" \") \n",
    "        #new_lines_no_punc.append(newline)\n",
    "\n",
    "with open('didiot_lem_nopunc.txt', 'w', encoding='utf8') as f111:\n",
    "    #for line in new_lines_no_punc:\n",
    "    f111.write(text_punc) #(line)\n"
   ]
  },
  {
   "cell_type": "markdown",
   "metadata": {},
   "source": [
    "`didiot_lem_nopunc.txt` is lemmatized and no punctuation `.txt` file with the text of Dostoyevsky's Idiot novel. "
   ]
  },
  {
   "cell_type": "markdown",
   "metadata": {},
   "source": [
    "### 2. Train a word2vec model on the chosen text, set the parameters (window size, vector size, number of iterations etc.), comment on your choice of parameter settings and the reasoning behind it -- 3 points (1 point for the model, 2 points for the comments) "
   ]
  },
  {
   "cell_type": "code",
   "execution_count": 5,
   "metadata": {},
   "outputs": [],
   "source": [
    "f = 'didiot_lem_nopunc.txt'\n",
    "data = gensim.models.word2vec.LineSentence(f)"
   ]
  },
  {
   "cell_type": "code",
   "execution_count": 38,
   "metadata": {},
   "outputs": [
    {
     "name": "stderr",
     "output_type": "stream",
     "text": [
      "2020-10-08 03:01:17,246 : INFO : collecting all words and their counts\n",
      "2020-10-08 03:01:17,249 : INFO : PROGRESS: at sentence #0, processed 0 words, keeping 0 word types\n",
      "2020-10-08 03:01:17,341 : INFO : collected 10430 word types from a corpus of 122906 raw words and 4599 sentences\n",
      "2020-10-08 03:01:17,342 : INFO : Loading a fresh vocabulary\n",
      "2020-10-08 03:01:17,361 : INFO : effective_min_count=2 retains 6411 unique words (61% of original 10430, drops 4019)\n",
      "2020-10-08 03:01:17,362 : INFO : effective_min_count=2 leaves 118887 word corpus (96% of original 122906, drops 4019)\n",
      "2020-10-08 03:01:17,389 : INFO : deleting the raw counts dictionary of 10430 items\n",
      "2020-10-08 03:01:17,390 : INFO : sample=0.001 downsamples 40 most-common words\n",
      "2020-10-08 03:01:17,391 : INFO : downsampling leaves estimated 109148 word corpus (91.8% of prior 118887)\n",
      "2020-10-08 03:01:17,415 : INFO : estimated required memory for 6411 words and 300 dimensions: 18591900 bytes\n",
      "2020-10-08 03:01:17,417 : INFO : resetting layer weights\n",
      "2020-10-08 03:01:19,418 : INFO : training model with 3 workers on 6411 vocabulary and 300 features, using sg=0 hs=0 sample=0.001 negative=5 window=10\n",
      "2020-10-08 03:01:19,639 : INFO : worker thread finished; awaiting finish of 2 more threads\n",
      "2020-10-08 03:01:19,656 : INFO : worker thread finished; awaiting finish of 1 more threads\n",
      "2020-10-08 03:01:19,664 : INFO : worker thread finished; awaiting finish of 0 more threads\n",
      "2020-10-08 03:01:19,665 : INFO : EPOCH - 1 : training on 122906 raw words (109082 effective words) took 0.2s, 446381 effective words/s\n",
      "2020-10-08 03:01:19,901 : INFO : worker thread finished; awaiting finish of 2 more threads\n",
      "2020-10-08 03:01:19,909 : INFO : worker thread finished; awaiting finish of 1 more threads\n",
      "2020-10-08 03:01:19,918 : INFO : worker thread finished; awaiting finish of 0 more threads\n",
      "2020-10-08 03:01:19,919 : INFO : EPOCH - 2 : training on 122906 raw words (109075 effective words) took 0.3s, 434734 effective words/s\n",
      "2020-10-08 03:01:20,151 : INFO : worker thread finished; awaiting finish of 2 more threads\n",
      "2020-10-08 03:01:20,160 : INFO : worker thread finished; awaiting finish of 1 more threads\n",
      "2020-10-08 03:01:20,170 : INFO : worker thread finished; awaiting finish of 0 more threads\n",
      "2020-10-08 03:01:20,171 : INFO : EPOCH - 3 : training on 122906 raw words (109176 effective words) took 0.2s, 446208 effective words/s\n",
      "2020-10-08 03:01:20,404 : INFO : worker thread finished; awaiting finish of 2 more threads\n",
      "2020-10-08 03:01:20,409 : INFO : worker thread finished; awaiting finish of 1 more threads\n",
      "2020-10-08 03:01:20,432 : INFO : worker thread finished; awaiting finish of 0 more threads\n",
      "2020-10-08 03:01:20,434 : INFO : EPOCH - 4 : training on 122906 raw words (109201 effective words) took 0.3s, 422955 effective words/s\n",
      "2020-10-08 03:01:20,756 : INFO : worker thread finished; awaiting finish of 2 more threads\n",
      "2020-10-08 03:01:20,767 : INFO : worker thread finished; awaiting finish of 1 more threads\n",
      "2020-10-08 03:01:20,770 : INFO : worker thread finished; awaiting finish of 0 more threads\n",
      "2020-10-08 03:01:20,771 : INFO : EPOCH - 5 : training on 122906 raw words (109156 effective words) took 0.3s, 326200 effective words/s\n",
      "2020-10-08 03:01:21,128 : INFO : worker thread finished; awaiting finish of 2 more threads\n",
      "2020-10-08 03:01:21,138 : INFO : worker thread finished; awaiting finish of 1 more threads\n",
      "2020-10-08 03:01:21,164 : INFO : worker thread finished; awaiting finish of 0 more threads\n",
      "2020-10-08 03:01:21,166 : INFO : EPOCH - 6 : training on 122906 raw words (109095 effective words) took 0.4s, 284020 effective words/s\n",
      "2020-10-08 03:01:21,513 : INFO : worker thread finished; awaiting finish of 2 more threads\n",
      "2020-10-08 03:01:21,515 : INFO : worker thread finished; awaiting finish of 1 more threads\n",
      "2020-10-08 03:01:21,543 : INFO : worker thread finished; awaiting finish of 0 more threads\n",
      "2020-10-08 03:01:21,545 : INFO : EPOCH - 7 : training on 122906 raw words (109218 effective words) took 0.4s, 290658 effective words/s\n",
      "2020-10-08 03:01:21,872 : INFO : worker thread finished; awaiting finish of 2 more threads\n",
      "2020-10-08 03:01:21,892 : INFO : worker thread finished; awaiting finish of 1 more threads\n",
      "2020-10-08 03:01:21,903 : INFO : worker thread finished; awaiting finish of 0 more threads\n",
      "2020-10-08 03:01:21,904 : INFO : EPOCH - 8 : training on 122906 raw words (109193 effective words) took 0.4s, 309673 effective words/s\n",
      "2020-10-08 03:01:22,215 : INFO : worker thread finished; awaiting finish of 2 more threads\n",
      "2020-10-08 03:01:22,224 : INFO : worker thread finished; awaiting finish of 1 more threads\n",
      "2020-10-08 03:01:22,226 : INFO : worker thread finished; awaiting finish of 0 more threads\n",
      "2020-10-08 03:01:22,227 : INFO : EPOCH - 9 : training on 122906 raw words (109244 effective words) took 0.3s, 345471 effective words/s\n",
      "2020-10-08 03:01:22,574 : INFO : worker thread finished; awaiting finish of 2 more threads\n",
      "2020-10-08 03:01:22,586 : INFO : worker thread finished; awaiting finish of 1 more threads\n",
      "2020-10-08 03:01:22,587 : INFO : worker thread finished; awaiting finish of 0 more threads\n",
      "2020-10-08 03:01:22,588 : INFO : EPOCH - 10 : training on 122906 raw words (108979 effective words) took 0.4s, 311050 effective words/s\n",
      "2020-10-08 03:01:22,856 : INFO : worker thread finished; awaiting finish of 2 more threads\n",
      "2020-10-08 03:01:22,869 : INFO : worker thread finished; awaiting finish of 1 more threads\n",
      "2020-10-08 03:01:22,875 : INFO : worker thread finished; awaiting finish of 0 more threads\n",
      "2020-10-08 03:01:22,876 : INFO : EPOCH - 11 : training on 122906 raw words (109094 effective words) took 0.3s, 382498 effective words/s\n",
      "2020-10-08 03:01:23,232 : INFO : worker thread finished; awaiting finish of 2 more threads\n",
      "2020-10-08 03:01:23,234 : INFO : worker thread finished; awaiting finish of 1 more threads\n",
      "2020-10-08 03:01:23,253 : INFO : worker thread finished; awaiting finish of 0 more threads\n",
      "2020-10-08 03:01:23,254 : INFO : EPOCH - 12 : training on 122906 raw words (109151 effective words) took 0.4s, 293361 effective words/s\n",
      "2020-10-08 03:01:23,517 : INFO : worker thread finished; awaiting finish of 2 more threads\n",
      "2020-10-08 03:01:23,526 : INFO : worker thread finished; awaiting finish of 1 more threads\n",
      "2020-10-08 03:01:23,557 : INFO : worker thread finished; awaiting finish of 0 more threads\n",
      "2020-10-08 03:01:23,558 : INFO : EPOCH - 13 : training on 122906 raw words (109160 effective words) took 0.3s, 364058 effective words/s\n",
      "2020-10-08 03:01:23,791 : INFO : worker thread finished; awaiting finish of 2 more threads\n",
      "2020-10-08 03:01:23,797 : INFO : worker thread finished; awaiting finish of 1 more threads\n",
      "2020-10-08 03:01:23,803 : INFO : worker thread finished; awaiting finish of 0 more threads\n",
      "2020-10-08 03:01:23,804 : INFO : EPOCH - 14 : training on 122906 raw words (109052 effective words) took 0.2s, 448820 effective words/s\n",
      "2020-10-08 03:01:24,031 : INFO : worker thread finished; awaiting finish of 2 more threads\n",
      "2020-10-08 03:01:24,042 : INFO : worker thread finished; awaiting finish of 1 more threads\n",
      "2020-10-08 03:01:24,046 : INFO : worker thread finished; awaiting finish of 0 more threads\n",
      "2020-10-08 03:01:24,046 : INFO : EPOCH - 15 : training on 122906 raw words (109221 effective words) took 0.2s, 456611 effective words/s\n",
      "2020-10-08 03:01:24,271 : INFO : worker thread finished; awaiting finish of 2 more threads\n",
      "2020-10-08 03:01:24,287 : INFO : worker thread finished; awaiting finish of 1 more threads\n",
      "2020-10-08 03:01:24,305 : INFO : worker thread finished; awaiting finish of 0 more threads\n",
      "2020-10-08 03:01:24,306 : INFO : EPOCH - 16 : training on 122906 raw words (109120 effective words) took 0.3s, 427576 effective words/s\n",
      "2020-10-08 03:01:24,532 : INFO : worker thread finished; awaiting finish of 2 more threads\n",
      "2020-10-08 03:01:24,542 : INFO : worker thread finished; awaiting finish of 1 more threads\n",
      "2020-10-08 03:01:24,545 : INFO : worker thread finished; awaiting finish of 0 more threads\n",
      "2020-10-08 03:01:24,546 : INFO : EPOCH - 17 : training on 122906 raw words (109004 effective words) took 0.2s, 461138 effective words/s\n",
      "2020-10-08 03:01:24,781 : INFO : worker thread finished; awaiting finish of 2 more threads\n"
     ]
    },
    {
     "name": "stderr",
     "output_type": "stream",
     "text": [
      "2020-10-08 03:01:24,787 : INFO : worker thread finished; awaiting finish of 1 more threads\n",
      "2020-10-08 03:01:24,788 : INFO : worker thread finished; awaiting finish of 0 more threads\n",
      "2020-10-08 03:01:24,789 : INFO : EPOCH - 18 : training on 122906 raw words (109139 effective words) took 0.2s, 461759 effective words/s\n",
      "2020-10-08 03:01:25,012 : INFO : worker thread finished; awaiting finish of 2 more threads\n",
      "2020-10-08 03:01:25,028 : INFO : worker thread finished; awaiting finish of 1 more threads\n",
      "2020-10-08 03:01:25,035 : INFO : worker thread finished; awaiting finish of 0 more threads\n",
      "2020-10-08 03:01:25,036 : INFO : EPOCH - 19 : training on 122906 raw words (109086 effective words) took 0.2s, 448355 effective words/s\n",
      "2020-10-08 03:01:25,286 : INFO : worker thread finished; awaiting finish of 2 more threads\n",
      "2020-10-08 03:01:25,290 : INFO : worker thread finished; awaiting finish of 1 more threads\n",
      "2020-10-08 03:01:25,304 : INFO : worker thread finished; awaiting finish of 0 more threads\n",
      "2020-10-08 03:01:25,305 : INFO : EPOCH - 20 : training on 122906 raw words (109200 effective words) took 0.3s, 411420 effective words/s\n",
      "2020-10-08 03:01:25,582 : INFO : worker thread finished; awaiting finish of 2 more threads\n",
      "2020-10-08 03:01:25,596 : INFO : worker thread finished; awaiting finish of 1 more threads\n",
      "2020-10-08 03:01:25,597 : INFO : worker thread finished; awaiting finish of 0 more threads\n",
      "2020-10-08 03:01:25,598 : INFO : EPOCH - 21 : training on 122906 raw words (109214 effective words) took 0.3s, 387567 effective words/s\n",
      "2020-10-08 03:01:25,879 : INFO : worker thread finished; awaiting finish of 2 more threads\n",
      "2020-10-08 03:01:25,882 : INFO : worker thread finished; awaiting finish of 1 more threads\n",
      "2020-10-08 03:01:25,897 : INFO : worker thread finished; awaiting finish of 0 more threads\n",
      "2020-10-08 03:01:25,898 : INFO : EPOCH - 22 : training on 122906 raw words (109143 effective words) took 0.3s, 370111 effective words/s\n",
      "2020-10-08 03:01:26,174 : INFO : worker thread finished; awaiting finish of 2 more threads\n",
      "2020-10-08 03:01:26,187 : INFO : worker thread finished; awaiting finish of 1 more threads\n",
      "2020-10-08 03:01:26,194 : INFO : worker thread finished; awaiting finish of 0 more threads\n",
      "2020-10-08 03:01:26,196 : INFO : EPOCH - 23 : training on 122906 raw words (109210 effective words) took 0.3s, 372626 effective words/s\n",
      "2020-10-08 03:01:26,472 : INFO : worker thread finished; awaiting finish of 2 more threads\n",
      "2020-10-08 03:01:26,474 : INFO : worker thread finished; awaiting finish of 1 more threads\n",
      "2020-10-08 03:01:26,494 : INFO : worker thread finished; awaiting finish of 0 more threads\n",
      "2020-10-08 03:01:26,495 : INFO : EPOCH - 24 : training on 122906 raw words (109094 effective words) took 0.3s, 369173 effective words/s\n",
      "2020-10-08 03:01:26,790 : INFO : worker thread finished; awaiting finish of 2 more threads\n",
      "2020-10-08 03:01:26,798 : INFO : worker thread finished; awaiting finish of 1 more threads\n",
      "2020-10-08 03:01:26,827 : INFO : worker thread finished; awaiting finish of 0 more threads\n",
      "2020-10-08 03:01:26,830 : INFO : EPOCH - 25 : training on 122906 raw words (109163 effective words) took 0.3s, 330853 effective words/s\n",
      "2020-10-08 03:01:27,227 : INFO : worker thread finished; awaiting finish of 2 more threads\n",
      "2020-10-08 03:01:27,233 : INFO : worker thread finished; awaiting finish of 1 more threads\n",
      "2020-10-08 03:01:27,242 : INFO : worker thread finished; awaiting finish of 0 more threads\n",
      "2020-10-08 03:01:27,243 : INFO : EPOCH - 26 : training on 122906 raw words (109077 effective words) took 0.4s, 266455 effective words/s\n",
      "2020-10-08 03:01:27,529 : INFO : worker thread finished; awaiting finish of 2 more threads\n",
      "2020-10-08 03:01:27,534 : INFO : worker thread finished; awaiting finish of 1 more threads\n",
      "2020-10-08 03:01:27,561 : INFO : worker thread finished; awaiting finish of 0 more threads\n",
      "2020-10-08 03:01:27,562 : INFO : EPOCH - 27 : training on 122906 raw words (109203 effective words) took 0.3s, 349494 effective words/s\n",
      "2020-10-08 03:01:27,938 : INFO : worker thread finished; awaiting finish of 2 more threads\n",
      "2020-10-08 03:01:27,948 : INFO : worker thread finished; awaiting finish of 1 more threads\n",
      "2020-10-08 03:01:27,950 : INFO : worker thread finished; awaiting finish of 0 more threads\n",
      "2020-10-08 03:01:27,951 : INFO : EPOCH - 28 : training on 122906 raw words (109113 effective words) took 0.4s, 285478 effective words/s\n",
      "2020-10-08 03:01:28,328 : INFO : worker thread finished; awaiting finish of 2 more threads\n",
      "2020-10-08 03:01:28,337 : INFO : worker thread finished; awaiting finish of 1 more threads\n",
      "2020-10-08 03:01:28,342 : INFO : worker thread finished; awaiting finish of 0 more threads\n",
      "2020-10-08 03:01:28,343 : INFO : EPOCH - 29 : training on 122906 raw words (109060 effective words) took 0.4s, 280691 effective words/s\n",
      "2020-10-08 03:01:28,655 : INFO : worker thread finished; awaiting finish of 2 more threads\n",
      "2020-10-08 03:01:28,663 : INFO : worker thread finished; awaiting finish of 1 more threads\n",
      "2020-10-08 03:01:28,686 : INFO : worker thread finished; awaiting finish of 0 more threads\n",
      "2020-10-08 03:01:28,687 : INFO : EPOCH - 30 : training on 122906 raw words (109207 effective words) took 0.3s, 323010 effective words/s\n",
      "2020-10-08 03:01:29,018 : INFO : worker thread finished; awaiting finish of 2 more threads\n",
      "2020-10-08 03:01:29,031 : INFO : worker thread finished; awaiting finish of 1 more threads\n",
      "2020-10-08 03:01:29,045 : INFO : worker thread finished; awaiting finish of 0 more threads\n",
      "2020-10-08 03:01:29,047 : INFO : EPOCH - 31 : training on 122906 raw words (109086 effective words) took 0.4s, 306459 effective words/s\n",
      "2020-10-08 03:01:29,356 : INFO : worker thread finished; awaiting finish of 2 more threads\n",
      "2020-10-08 03:01:29,363 : INFO : worker thread finished; awaiting finish of 1 more threads\n",
      "2020-10-08 03:01:29,392 : INFO : worker thread finished; awaiting finish of 0 more threads\n",
      "2020-10-08 03:01:29,393 : INFO : EPOCH - 32 : training on 122906 raw words (109108 effective words) took 0.3s, 318861 effective words/s\n",
      "2020-10-08 03:01:29,739 : INFO : worker thread finished; awaiting finish of 2 more threads\n",
      "2020-10-08 03:01:29,745 : INFO : worker thread finished; awaiting finish of 1 more threads\n",
      "2020-10-08 03:01:29,752 : INFO : worker thread finished; awaiting finish of 0 more threads\n",
      "2020-10-08 03:01:29,754 : INFO : EPOCH - 33 : training on 122906 raw words (109156 effective words) took 0.4s, 305711 effective words/s\n",
      "2020-10-08 03:01:30,098 : INFO : worker thread finished; awaiting finish of 2 more threads\n",
      "2020-10-08 03:01:30,124 : INFO : worker thread finished; awaiting finish of 1 more threads\n",
      "2020-10-08 03:01:30,125 : INFO : worker thread finished; awaiting finish of 0 more threads\n",
      "2020-10-08 03:01:30,126 : INFO : EPOCH - 34 : training on 122906 raw words (109124 effective words) took 0.4s, 296198 effective words/s\n",
      "2020-10-08 03:01:30,460 : INFO : worker thread finished; awaiting finish of 2 more threads\n",
      "2020-10-08 03:01:30,463 : INFO : worker thread finished; awaiting finish of 1 more threads\n",
      "2020-10-08 03:01:30,480 : INFO : worker thread finished; awaiting finish of 0 more threads\n",
      "2020-10-08 03:01:30,481 : INFO : EPOCH - 35 : training on 122906 raw words (109104 effective words) took 0.4s, 310675 effective words/s\n",
      "2020-10-08 03:01:30,798 : INFO : worker thread finished; awaiting finish of 2 more threads\n",
      "2020-10-08 03:01:30,820 : INFO : worker thread finished; awaiting finish of 1 more threads\n",
      "2020-10-08 03:01:30,833 : INFO : worker thread finished; awaiting finish of 0 more threads\n",
      "2020-10-08 03:01:30,834 : INFO : EPOCH - 36 : training on 122906 raw words (109128 effective words) took 0.3s, 315111 effective words/s\n",
      "2020-10-08 03:01:31,122 : INFO : worker thread finished; awaiting finish of 2 more threads\n",
      "2020-10-08 03:01:31,150 : INFO : worker thread finished; awaiting finish of 1 more threads\n",
      "2020-10-08 03:01:31,161 : INFO : worker thread finished; awaiting finish of 0 more threads\n",
      "2020-10-08 03:01:31,162 : INFO : EPOCH - 37 : training on 122906 raw words (109195 effective words) took 0.3s, 341844 effective words/s\n",
      "2020-10-08 03:01:31,492 : INFO : worker thread finished; awaiting finish of 2 more threads\n",
      "2020-10-08 03:01:31,509 : INFO : worker thread finished; awaiting finish of 1 more threads\n"
     ]
    },
    {
     "name": "stderr",
     "output_type": "stream",
     "text": [
      "2020-10-08 03:01:31,519 : INFO : worker thread finished; awaiting finish of 0 more threads\n",
      "2020-10-08 03:01:31,520 : INFO : EPOCH - 38 : training on 122906 raw words (109104 effective words) took 0.4s, 307698 effective words/s\n",
      "2020-10-08 03:01:31,826 : INFO : worker thread finished; awaiting finish of 2 more threads\n",
      "2020-10-08 03:01:31,834 : INFO : worker thread finished; awaiting finish of 1 more threads\n",
      "2020-10-08 03:01:31,841 : INFO : worker thread finished; awaiting finish of 0 more threads\n",
      "2020-10-08 03:01:31,842 : INFO : EPOCH - 39 : training on 122906 raw words (109046 effective words) took 0.3s, 355077 effective words/s\n",
      "2020-10-08 03:01:32,159 : INFO : worker thread finished; awaiting finish of 2 more threads\n",
      "2020-10-08 03:01:32,166 : INFO : worker thread finished; awaiting finish of 1 more threads\n",
      "2020-10-08 03:01:32,181 : INFO : worker thread finished; awaiting finish of 0 more threads\n",
      "2020-10-08 03:01:32,183 : INFO : EPOCH - 40 : training on 122906 raw words (109051 effective words) took 0.3s, 323019 effective words/s\n",
      "2020-10-08 03:01:32,448 : INFO : worker thread finished; awaiting finish of 2 more threads\n",
      "2020-10-08 03:01:32,451 : INFO : worker thread finished; awaiting finish of 1 more threads\n",
      "2020-10-08 03:01:32,474 : INFO : worker thread finished; awaiting finish of 0 more threads\n",
      "2020-10-08 03:01:32,477 : INFO : EPOCH - 41 : training on 122906 raw words (109112 effective words) took 0.3s, 379217 effective words/s\n",
      "2020-10-08 03:01:32,731 : INFO : worker thread finished; awaiting finish of 2 more threads\n",
      "2020-10-08 03:01:32,732 : INFO : worker thread finished; awaiting finish of 1 more threads\n",
      "2020-10-08 03:01:32,736 : INFO : worker thread finished; awaiting finish of 0 more threads\n",
      "2020-10-08 03:01:32,738 : INFO : EPOCH - 42 : training on 122906 raw words (109205 effective words) took 0.3s, 427696 effective words/s\n",
      "2020-10-08 03:01:33,096 : INFO : worker thread finished; awaiting finish of 2 more threads\n",
      "2020-10-08 03:01:33,100 : INFO : worker thread finished; awaiting finish of 1 more threads\n",
      "2020-10-08 03:01:33,117 : INFO : worker thread finished; awaiting finish of 0 more threads\n",
      "2020-10-08 03:01:33,117 : INFO : EPOCH - 43 : training on 122906 raw words (109004 effective words) took 0.4s, 290920 effective words/s\n",
      "2020-10-08 03:01:33,471 : INFO : worker thread finished; awaiting finish of 2 more threads\n",
      "2020-10-08 03:01:33,475 : INFO : worker thread finished; awaiting finish of 1 more threads\n",
      "2020-10-08 03:01:33,517 : INFO : worker thread finished; awaiting finish of 0 more threads\n",
      "2020-10-08 03:01:33,518 : INFO : EPOCH - 44 : training on 122906 raw words (109203 effective words) took 0.4s, 274389 effective words/s\n",
      "2020-10-08 03:01:33,809 : INFO : worker thread finished; awaiting finish of 2 more threads\n",
      "2020-10-08 03:01:33,819 : INFO : worker thread finished; awaiting finish of 1 more threads\n",
      "2020-10-08 03:01:33,822 : INFO : worker thread finished; awaiting finish of 0 more threads\n",
      "2020-10-08 03:01:33,823 : INFO : EPOCH - 45 : training on 122906 raw words (109114 effective words) took 0.3s, 362179 effective words/s\n",
      "2020-10-08 03:01:34,131 : INFO : worker thread finished; awaiting finish of 2 more threads\n",
      "2020-10-08 03:01:34,143 : INFO : worker thread finished; awaiting finish of 1 more threads\n",
      "2020-10-08 03:01:34,146 : INFO : worker thread finished; awaiting finish of 0 more threads\n",
      "2020-10-08 03:01:34,150 : INFO : EPOCH - 46 : training on 122906 raw words (109089 effective words) took 0.3s, 339470 effective words/s\n",
      "2020-10-08 03:01:34,449 : INFO : worker thread finished; awaiting finish of 2 more threads\n",
      "2020-10-08 03:01:34,452 : INFO : worker thread finished; awaiting finish of 1 more threads\n",
      "2020-10-08 03:01:34,460 : INFO : worker thread finished; awaiting finish of 0 more threads\n",
      "2020-10-08 03:01:34,461 : INFO : EPOCH - 47 : training on 122906 raw words (109096 effective words) took 0.3s, 355496 effective words/s\n",
      "2020-10-08 03:01:34,751 : INFO : worker thread finished; awaiting finish of 2 more threads\n",
      "2020-10-08 03:01:34,755 : INFO : worker thread finished; awaiting finish of 1 more threads\n",
      "2020-10-08 03:01:34,762 : INFO : worker thread finished; awaiting finish of 0 more threads\n",
      "2020-10-08 03:01:34,763 : INFO : EPOCH - 48 : training on 122906 raw words (109173 effective words) took 0.3s, 366875 effective words/s\n",
      "2020-10-08 03:01:35,048 : INFO : worker thread finished; awaiting finish of 2 more threads\n",
      "2020-10-08 03:01:35,059 : INFO : worker thread finished; awaiting finish of 1 more threads\n",
      "2020-10-08 03:01:35,067 : INFO : worker thread finished; awaiting finish of 0 more threads\n",
      "2020-10-08 03:01:35,068 : INFO : EPOCH - 49 : training on 122906 raw words (109146 effective words) took 0.3s, 365205 effective words/s\n",
      "2020-10-08 03:01:35,353 : INFO : worker thread finished; awaiting finish of 2 more threads\n",
      "2020-10-08 03:01:35,359 : INFO : worker thread finished; awaiting finish of 1 more threads\n",
      "2020-10-08 03:01:35,392 : INFO : worker thread finished; awaiting finish of 0 more threads\n",
      "2020-10-08 03:01:35,393 : INFO : EPOCH - 50 : training on 122906 raw words (109101 effective words) took 0.3s, 340655 effective words/s\n",
      "2020-10-08 03:01:35,394 : INFO : training on a 6145300 raw words (5456475 effective words) took 16.0s, 341579 effective words/s\n"
     ]
    },
    {
     "name": "stdout",
     "output_type": "stream",
     "text": [
      "CPU times: user 39.6 s, sys: 794 ms, total: 40.4 s\n",
      "Wall time: 18.2 s\n"
     ]
    }
   ],
   "source": [
    "%time model_didiot = gensim.models.Word2Vec(data, size=300, window=10, min_count=2, iter=50)"
   ]
  },
  {
   "cell_type": "markdown",
   "metadata": {},
   "source": [
    "#### Comment: \n",
    "\n",
    "- `data` is preprocessed lemmarized `.txt`-file from the previous part; \n",
    "- `size` is $300$, grater number would not make it better; \n",
    "- `window size` is $5-8$ since it shows the better accuracy from that interval, (at, let's say, $10$ accuracy is not much better); \n",
    "- `min_count` is $2$ to cut off too rare words which seem to be more occasional, (a run with *min_count*$=0$ resulted the number of words $10430$, there are also may be French words used in epigraph quotations); \n",
    "- `sg`, I leave in a default parameter since it goes well with relatively small data; \n",
    "- `sample` is left at the defaul value; \n",
    "- `negative` is left default (equals $5$); \n",
    "- `iter` equals $50$ because at this point it reaches the top accuracy; \n",
    "- I set no limitation for `max_vocab_size` because I do not expect it to be that big, (even the size of the original text is $214`314$ words). \n"
   ]
  },
  {
   "cell_type": "code",
   "execution_count": 39,
   "metadata": {},
   "outputs": [
    {
     "name": "stderr",
     "output_type": "stream",
     "text": [
      "2020-10-08 03:02:17,261 : INFO : precomputing L2-norms of word weight vectors\n",
      "2020-10-08 03:02:17,276 : INFO : storing 6411x300 projection weights into didiot.bin\n"
     ]
    },
    {
     "name": "stdout",
     "output_type": "stream",
     "text": [
      "Saving model...\n"
     ]
    }
   ],
   "source": [
    "model_didiot.init_sims(replace=True)\n",
    "model_path = \"didiot.bin\"\n",
    "\n",
    "print(\"Saving model...\")\n",
    "model_didiot.wv.save_word2vec_format(model_path, binary=True)"
   ]
  },
  {
   "cell_type": "code",
   "execution_count": 40,
   "metadata": {},
   "outputs": [
    {
     "name": "stdout",
     "output_type": "stream",
     "text": [
      "6411\n"
     ]
    }
   ],
   "source": [
    "# number of words \n",
    "print(len(model_didiot.wv.vocab))"
   ]
  },
  {
   "cell_type": "markdown",
   "metadata": {},
   "source": [
    "### 3. Test your model, use most_similar, similarity, doesnt_match functions, comment on the model performance -- 3 points (1 point for the use of the functions, 2 points for the comments and reasoning behind the testing)"
   ]
  },
  {
   "cell_type": "markdown",
   "metadata": {},
   "source": [
    "##### most_similar "
   ]
  },
  {
   "cell_type": "code",
   "execution_count": 45,
   "metadata": {},
   "outputs": [
    {
     "data": {
      "text/plain": [
       "[('чисто', 0.44975095987319946),\n",
       " ('тоцкий', 0.4215039610862732),\n",
       " ('барашков', 0.408893346786499)]"
      ]
     },
     "execution_count": 45,
     "metadata": {},
     "output_type": "execute_result"
    }
   ],
   "source": [
    "model_didiot.wv.most_similar(\"настасья\", topn=3)"
   ]
  },
  {
   "cell_type": "code",
   "execution_count": 47,
   "metadata": {},
   "outputs": [
    {
     "data": {
      "text/plain": [
       "[('николаевич', 0.8946851491928101),\n",
       " ('николаич', 0.8208207488059998),\n",
       " ('басня', 0.6318966150283813)]"
      ]
     },
     "execution_count": 47,
     "metadata": {},
     "output_type": "execute_result"
    }
   ],
   "source": [
    "model_didiot.wv.most_similar(\"лев\", topn=3)"
   ]
  },
  {
   "cell_type": "code",
   "execution_count": 48,
   "metadata": {},
   "outputs": [
    {
     "data": {
      "text/plain": [
       "[('уметь', 0.5131288170814514),\n",
       " ('душонка', 0.5047910213470459),\n",
       " ('старикашка', 0.4966288208961487)]"
      ]
     },
     "execution_count": 48,
     "metadata": {},
     "output_type": "execute_result"
    }
   ],
   "source": [
    "model_didiot.wv.most_similar(\"идиот\", topn=3)"
   ]
  },
  {
   "cell_type": "code",
   "execution_count": 49,
   "metadata": {},
   "outputs": [
    {
     "data": {
      "text/plain": [
       "[('благородный', 0.555116593837738),\n",
       " ('любовница', 0.5367225408554077),\n",
       " ('не', 0.5362522006034851)]"
      ]
     },
     "execution_count": 49,
     "metadata": {},
     "output_type": "execute_result"
    }
   ],
   "source": [
    "model_didiot.wv.most_similar(\"честный\", topn=3)"
   ]
  },
  {
   "cell_type": "code",
   "execution_count": 71,
   "metadata": {},
   "outputs": [
    {
     "data": {
      "text/plain": [
       "[('любить', 0.6432786583900452),\n",
       " ('жалость', 0.6384543776512146),\n",
       " ('жестокость', 0.5909203886985779),\n",
       " ('гордость', 0.5688411593437195),\n",
       " ('сострадание', 0.5667636394500732)]"
      ]
     },
     "execution_count": 71,
     "metadata": {},
     "output_type": "execute_result"
    }
   ],
   "source": [
    "model_didiot.wv.most_similar(\"любовь\", topn=5)"
   ]
  },
  {
   "cell_type": "code",
   "execution_count": 51,
   "metadata": {},
   "outputs": [
    {
     "data": {
      "text/plain": [
       "[('оружие', 0.5518025755882263),\n",
       " ('удостоить', 0.5451244711875916),\n",
       " ('экземпляр', 0.5443816184997559)]"
      ]
     },
     "execution_count": 51,
     "metadata": {},
     "output_type": "execute_result"
    }
   ],
   "source": [
    "model_didiot.wv.most_similar(\"честь\", topn=3)"
   ]
  },
  {
   "cell_type": "code",
   "execution_count": 53,
   "metadata": {},
   "outputs": [
    {
     "data": {
      "text/plain": [
       "[('добрый', 0.5591087937355042),\n",
       " ('глупо', 0.5367403626441956),\n",
       " ('невинный', 0.5285898447036743)]"
      ]
     },
     "execution_count": 53,
     "metadata": {},
     "output_type": "execute_result"
    }
   ],
   "source": [
    "model_didiot.wv.most_similar(\"глупый\", topn=3)"
   ]
  },
  {
   "cell_type": "code",
   "execution_count": 56,
   "metadata": {},
   "outputs": [
    {
     "data": {
      "text/plain": [
       "[('ладонь', 0.6917517185211182),\n",
       " ('крепко', 0.62564617395401),\n",
       " ('сжимать', 0.6214070916175842)]"
      ]
     },
     "execution_count": 56,
     "metadata": {},
     "output_type": "execute_result"
    }
   ],
   "source": [
    "model_didiot.wv.most_similar(\"правый\", topn=3)"
   ]
  },
  {
   "cell_type": "code",
   "execution_count": 67,
   "metadata": {},
   "outputs": [
    {
     "data": {
      "text/plain": [
       "[('класть', 0.6635871529579163),\n",
       " ('вода', 0.6531194448471069),\n",
       " ('щипцы', 0.641416072845459)]"
      ]
     },
     "execution_count": 67,
     "metadata": {},
     "output_type": "execute_result"
    }
   ],
   "source": [
    "model_didiot.wv.most_similar(\"нож\", topn=3)"
   ]
  },
  {
   "cell_type": "code",
   "execution_count": 89,
   "metadata": {},
   "outputs": [
    {
     "data": {
      "text/plain": [
       "[('внезапный', 0.5888667106628418),\n",
       " ('впечатление', 0.5888392329216003),\n",
       " ('видеться', 0.5828084945678711),\n",
       " ('мучительный', 0.5776416063308716),\n",
       " ('вспоминаться', 0.5699927806854248)]"
      ]
     },
     "execution_count": 89,
     "metadata": {},
     "output_type": "execute_result"
    }
   ],
   "source": [
    "model_didiot.wv.most_similar(\"встреча\", topn=5)"
   ]
  },
  {
   "cell_type": "code",
   "execution_count": 70,
   "metadata": {},
   "outputs": [
    {
     "data": {
      "text/plain": [
       "[('любить', 0.6432786583900452),\n",
       " ('жалость', 0.6384543776512146),\n",
       " ('жестокость', 0.5909203886985779),\n",
       " ('гордость', 0.5688411593437195),\n",
       " ('сострадание', 0.5667636394500732)]"
      ]
     },
     "execution_count": 70,
     "metadata": {},
     "output_type": "execute_result"
    }
   ],
   "source": [
    "model_didiot.wv.most_similar(positive=[\"любовь\"], topn=5)"
   ]
  },
  {
   "cell_type": "code",
   "execution_count": 72,
   "metadata": {},
   "outputs": [
    {
     "data": {
      "text/plain": [
       "[('вакхический', 0.4842985272407532),\n",
       " ('будить', 0.47418707609176636),\n",
       " ('публика', 0.4689405560493469),\n",
       " ('пересаживаться', 0.4614849090576172),\n",
       " ('кол', 0.4529187083244324)]"
      ]
     },
     "execution_count": 72,
     "metadata": {},
     "output_type": "execute_result"
    }
   ],
   "source": [
    "model_didiot.wv.most_similar(negative=[\"любовь\"], topn=5)"
   ]
  },
  {
   "cell_type": "code",
   "execution_count": 68,
   "metadata": {},
   "outputs": [
    {
     "data": {
      "text/plain": [
       "[('весьма', 0.5154138803482056),\n",
       " ('обстоятельство', 0.5079464316368103),\n",
       " ('порождать', 0.5024181604385376)]"
      ]
     },
     "execution_count": 68,
     "metadata": {},
     "output_type": "execute_result"
    }
   ],
   "source": [
    "model_didiot.wv.most_similar(negative=[\"нож\"], topn=3)"
   ]
  },
  {
   "cell_type": "code",
   "execution_count": 69,
   "metadata": {},
   "outputs": [
    {
     "data": {
      "text/plain": [
       "[('класть', 0.6635871529579163),\n",
       " ('вода', 0.6531194448471069),\n",
       " ('щипцы', 0.641416072845459)]"
      ]
     },
     "execution_count": 69,
     "metadata": {},
     "output_type": "execute_result"
    }
   ],
   "source": [
    "model_didiot.wv.most_similar(positive=[\"нож\"], topn=3)"
   ]
  },
  {
   "cell_type": "code",
   "execution_count": 74,
   "metadata": {},
   "outputs": [
    {
     "data": {
      "text/plain": [
       "[('жестокость', 0.6044210195541382),\n",
       " ('сострадание', 0.5950920581817627),\n",
       " ('унижать', 0.5828839540481567),\n",
       " ('жалость', 0.5657812356948853),\n",
       " ('страдать', 0.5648155212402344)]"
      ]
     },
     "execution_count": 74,
     "metadata": {},
     "output_type": "execute_result"
    }
   ],
   "source": [
    "model_didiot.wv.most_similar(positive=[\"любовь\"], negative=[\"петербург\"], topn=5)"
   ]
  },
  {
   "cell_type": "code",
   "execution_count": 75,
   "metadata": {},
   "outputs": [
    {
     "data": {
      "text/plain": [
       "[('осмеливаться', 0.5085556507110596),\n",
       " ('деликатность', 0.44281643629074097),\n",
       " ('безумный', 0.43197470903396606),\n",
       " ('краснеть', 0.4247952997684479),\n",
       " ('кинуть', 0.42126911878585815)]"
      ]
     },
     "execution_count": 75,
     "metadata": {},
     "output_type": "execute_result"
    }
   ],
   "source": [
    "model_didiot.wv.most_similar(positive=[\"настасья\", \"письмо\"], negative=[\"петербург\"], topn=5)"
   ]
  },
  {
   "cell_type": "code",
   "execution_count": 76,
   "metadata": {},
   "outputs": [
    {
     "data": {
      "text/plain": [
       "[('осмеливаться', 0.6156102418899536),\n",
       " ('вслух', 0.523723840713501),\n",
       " ('безумный', 0.4974556267261505),\n",
       " ('анонимный', 0.49420103430747986),\n",
       " ('написать', 0.4892237186431885)]"
      ]
     },
     "execution_count": 76,
     "metadata": {},
     "output_type": "execute_result"
    }
   ],
   "source": [
    "model_didiot.wv.most_similar(positive=[\"письмо\"], negative=[\"петербург\"], topn=5)"
   ]
  },
  {
   "cell_type": "code",
   "execution_count": 81,
   "metadata": {},
   "outputs": [
    {
     "data": {
      "text/plain": [
       "[('приезд', 0.6854239702224731),\n",
       " ('получать', 0.6412754058837891),\n",
       " ('салазкин', 0.5936119556427002),\n",
       " ('выезд', 0.5718427300453186),\n",
       " ('подробный', 0.569506049156189)]"
      ]
     },
     "execution_count": 81,
     "metadata": {},
     "output_type": "execute_result"
    }
   ],
   "source": [
    "model_didiot.wv.most_similar(positive=[\"письмо\", \"петербург\"], topn=5)"
   ]
  },
  {
   "cell_type": "code",
   "execution_count": 85,
   "metadata": {},
   "outputs": [
    {
     "data": {
      "text/plain": [
       "[('осмеливаться', 0.5705132484436035),\n",
       " ('каллиграф', 0.5691664218902588),\n",
       " ('прочитывать', 0.5080501437187195),\n",
       " ('больше', 0.5044369697570801),\n",
       " ('вслух', 0.4929630160331726)]"
      ]
     },
     "execution_count": 85,
     "metadata": {},
     "output_type": "execute_result"
    }
   ],
   "source": [
    "model_didiot.wv.most_similar(positive=[\"написать\"], negative=[\"петербург\"], topn=5)"
   ]
  },
  {
   "cell_type": "code",
   "execution_count": 88,
   "metadata": {},
   "outputs": [
    {
     "data": {
      "text/plain": [
       "[('грозно', 0.5491936206817627),\n",
       " ('недоумение', 0.5161395072937012),\n",
       " ('пристально', 0.5107697248458862),\n",
       " ('расхохотаться', 0.5036657452583313),\n",
       " ('портрет', 0.4917711317539215)]"
      ]
     },
     "execution_count": 88,
     "metadata": {},
     "output_type": "execute_result"
    }
   ],
   "source": [
    "model_didiot.wv.most_similar(positive=[\"удивление\"], negative=[\"печальный\"], topn=5)"
   ]
  },
  {
   "cell_type": "code",
   "execution_count": 112,
   "metadata": {},
   "outputs": [
    {
     "data": {
      "text/plain": [
       "[('убыток', 0.657443106174469),\n",
       " ('почесть', 0.6253799200057983),\n",
       " ('малодушие', 0.6170972585678101),\n",
       " ('ничтожный', 0.5967755317687988),\n",
       " ('здравый', 0.5851949453353882),\n",
       " ('исповедь', 0.5844656229019165),\n",
       " ('нравственный', 0.5818561315536499)]"
      ]
     },
     "execution_count": 112,
     "metadata": {},
     "output_type": "execute_result"
    }
   ],
   "source": [
    "model_didiot.wv.most_similar(\"кутеж\", topn=7)"
   ]
  },
  {
   "cell_type": "code",
   "execution_count": 115,
   "metadata": {},
   "outputs": [
    {
     "data": {
      "text/plain": [
       "[('разговаривать', 0.5198025107383728),\n",
       " ('поглядывать', 0.5195931196212769),\n",
       " ('выползать', 0.495477557182312),\n",
       " ('внимательно', 0.49100643396377563),\n",
       " ('переглядываться', 0.48667657375335693)]"
      ]
     },
     "execution_count": 115,
     "metadata": {},
     "output_type": "execute_result"
    }
   ],
   "source": [
    "model_didiot.wv.most_similar(negative=[\"кутеж\", \"исповедь\"], topn=5)"
   ]
  },
  {
   "cell_type": "code",
   "execution_count": 143,
   "metadata": {},
   "outputs": [
    {
     "data": {
      "text/plain": [
       "[('знание', 0.6284270286560059),\n",
       " ('болезненный', 0.6182923316955566),\n",
       " ('партия', 0.6174362897872925),\n",
       " ('непосредственный', 0.6077578067779541),\n",
       " ('воспаление', 0.5922783613204956),\n",
       " ('каторга', 0.5891556739807129),\n",
       " ('наружность', 0.585380494594574)]"
      ]
     },
     "execution_count": 143,
     "metadata": {},
     "output_type": "execute_result"
    }
   ],
   "source": [
    "model_didiot.wv.most_similar(\"состояние\", topn=7)"
   ]
  },
  {
   "cell_type": "markdown",
   "metadata": {},
   "source": [
    "##### similarity "
   ]
  },
  {
   "cell_type": "code",
   "execution_count": 46,
   "metadata": {},
   "outputs": [
    {
     "data": {
      "text/plain": [
       "0.42150396"
      ]
     },
     "execution_count": 46,
     "metadata": {},
     "output_type": "execute_result"
    }
   ],
   "source": [
    "model_didiot.wv.similarity(\"настасья\", \"тоцкий\")"
   ]
  },
  {
   "cell_type": "code",
   "execution_count": 91,
   "metadata": {},
   "outputs": [
    {
     "data": {
      "text/plain": [
       "0.40889335"
      ]
     },
     "execution_count": 91,
     "metadata": {},
     "output_type": "execute_result"
    }
   ],
   "source": [
    "model_didiot.wv.similarity(\"настасья\", \"барашков\") "
   ]
  },
  {
   "cell_type": "code",
   "execution_count": 92,
   "metadata": {},
   "outputs": [
    {
     "data": {
      "text/plain": [
       "0.44026095"
      ]
     },
     "execution_count": 92,
     "metadata": {},
     "output_type": "execute_result"
    }
   ],
   "source": [
    "model_didiot.wv.similarity(\"мышкин\", \"лев\")"
   ]
  },
  {
   "cell_type": "code",
   "execution_count": 90,
   "metadata": {},
   "outputs": [
    {
     "data": {
      "text/plain": [
       "0.14817065"
      ]
     },
     "execution_count": 90,
     "metadata": {},
     "output_type": "execute_result"
    }
   ],
   "source": [
    "model_didiot.wv.similarity(\"встреча\", \"поезд\")"
   ]
  },
  {
   "cell_type": "code",
   "execution_count": 93,
   "metadata": {},
   "outputs": [
    {
     "data": {
      "text/plain": [
       "0.07066609"
      ]
     },
     "execution_count": 93,
     "metadata": {},
     "output_type": "execute_result"
    }
   ],
   "source": [
    "model_didiot.wv.similarity(\"встреча\", \"разговор\")"
   ]
  },
  {
   "cell_type": "code",
   "execution_count": 94,
   "metadata": {},
   "outputs": [
    {
     "data": {
      "text/plain": [
       "0.07066609"
      ]
     },
     "execution_count": 94,
     "metadata": {},
     "output_type": "execute_result"
    }
   ],
   "source": [
    "model_didiot.wv.similarity(\"разговор\", \"встреча\")"
   ]
  },
  {
   "cell_type": "code",
   "execution_count": 95,
   "metadata": {},
   "outputs": [
    {
     "data": {
      "text/plain": [
       "0.7747731"
      ]
     },
     "execution_count": 95,
     "metadata": {},
     "output_type": "execute_result"
    }
   ],
   "source": [
    "model_didiot.wv.similarity(\"николаевич\", \"николаич\")"
   ]
  },
  {
   "cell_type": "code",
   "execution_count": 99,
   "metadata": {},
   "outputs": [
    {
     "data": {
      "text/plain": [
       "0.047673024"
      ]
     },
     "execution_count": 99,
     "metadata": {},
     "output_type": "execute_result"
    }
   ],
   "source": [
    "model_didiot.wv.similarity(\"нож\", \"смерть\")"
   ]
  },
  {
   "cell_type": "code",
   "execution_count": 102,
   "metadata": {},
   "outputs": [
    {
     "data": {
      "text/plain": [
       "0.43045372"
      ]
     },
     "execution_count": 102,
     "metadata": {},
     "output_type": "execute_result"
    }
   ],
   "source": [
    "model_didiot.wv.similarity(\"нож\", \"убивать\")"
   ]
  },
  {
   "cell_type": "code",
   "execution_count": 98,
   "metadata": {},
   "outputs": [
    {
     "data": {
      "text/plain": [
       "0.39260972"
      ]
     },
     "execution_count": 98,
     "metadata": {},
     "output_type": "execute_result"
    }
   ],
   "source": [
    "model_didiot.wv.similarity(\"красота\", \"любовь\")"
   ]
  },
  {
   "cell_type": "code",
   "execution_count": 103,
   "metadata": {},
   "outputs": [
    {
     "data": {
      "text/plain": [
       "0.08517749"
      ]
     },
     "execution_count": 103,
     "metadata": {},
     "output_type": "execute_result"
    }
   ],
   "source": [
    "model_didiot.wv.similarity(\"кутеж\", \"москва\")"
   ]
  },
  {
   "cell_type": "code",
   "execution_count": 106,
   "metadata": {},
   "outputs": [
    {
     "data": {
      "text/plain": [
       "-0.080385566"
      ]
     },
     "execution_count": 106,
     "metadata": {},
     "output_type": "execute_result"
    }
   ],
   "source": [
    "model_didiot.wv.similarity(\"кутеж\", \"петербург\")"
   ]
  },
  {
   "cell_type": "code",
   "execution_count": 105,
   "metadata": {},
   "outputs": [
    {
     "data": {
      "text/plain": [
       "0.47728232"
      ]
     },
     "execution_count": 105,
     "metadata": {},
     "output_type": "execute_result"
    }
   ],
   "source": [
    "model_didiot.wv.similarity(\"москва\", \"петербург\")"
   ]
  },
  {
   "cell_type": "code",
   "execution_count": 107,
   "metadata": {},
   "outputs": [
    {
     "data": {
      "text/plain": [
       "-0.044667996"
      ]
     },
     "execution_count": 107,
     "metadata": {},
     "output_type": "execute_result"
    }
   ],
   "source": [
    "model_didiot.wv.similarity(\"грязь\", \"петербург\")"
   ]
  },
  {
   "cell_type": "code",
   "execution_count": null,
   "metadata": {},
   "outputs": [],
   "source": [
    "model_didiot.wv.similarity(\"грязь\", \"петербург\")"
   ]
  },
  {
   "cell_type": "markdown",
   "metadata": {},
   "source": [
    "##### doesnt_match "
   ]
  },
  {
   "cell_type": "code",
   "execution_count": 116,
   "metadata": {},
   "outputs": [
    {
     "data": {
      "text/plain": [
       "'любовь'"
      ]
     },
     "execution_count": 116,
     "metadata": {},
     "output_type": "execute_result"
    }
   ],
   "source": [
    "model_didiot.wv.doesnt_match(\"любовь красивый настасья князь\".split())"
   ]
  },
  {
   "cell_type": "code",
   "execution_count": 118,
   "metadata": {},
   "outputs": [
    {
     "data": {
      "text/plain": [
       "'николаич'"
      ]
     },
     "execution_count": 118,
     "metadata": {},
     "output_type": "execute_result"
    }
   ],
   "source": [
    "model_didiot.wv.doesnt_match(\"николаич николаевич лев\".split())"
   ]
  },
  {
   "cell_type": "code",
   "execution_count": 119,
   "metadata": {},
   "outputs": [
    {
     "data": {
      "text/plain": [
       "'настасья'"
      ]
     },
     "execution_count": 119,
     "metadata": {},
     "output_type": "execute_result"
    }
   ],
   "source": [
    "model_didiot.wv.doesnt_match(\"лев настасья лизавета парфен иван\".split())"
   ]
  },
  {
   "cell_type": "code",
   "execution_count": 122,
   "metadata": {},
   "outputs": [
    {
     "data": {
      "text/plain": [
       "'грязь'"
      ]
     },
     "execution_count": 122,
     "metadata": {},
     "output_type": "execute_result"
    }
   ],
   "source": [
    "model_didiot.wv.doesnt_match(\"грязь петербург москва павловск швейцария\".split())"
   ]
  },
  {
   "cell_type": "code",
   "execution_count": 123,
   "metadata": {},
   "outputs": [
    {
     "data": {
      "text/plain": [
       "'швейцария'"
      ]
     },
     "execution_count": 123,
     "metadata": {},
     "output_type": "execute_result"
    }
   ],
   "source": [
    "model_didiot.wv.doesnt_match(\"петербург москва павловск швейцария\".split())"
   ]
  },
  {
   "cell_type": "code",
   "execution_count": 124,
   "metadata": {},
   "outputs": [
    {
     "data": {
      "text/plain": [
       "'петербург'"
      ]
     },
     "execution_count": 124,
     "metadata": {},
     "output_type": "execute_result"
    }
   ],
   "source": [
    "model_didiot.wv.doesnt_match(\"петербург москва\".split())"
   ]
  },
  {
   "cell_type": "code",
   "execution_count": 129,
   "metadata": {},
   "outputs": [
    {
     "data": {
      "text/plain": [
       "'петербург'"
      ]
     },
     "execution_count": 129,
     "metadata": {},
     "output_type": "execute_result"
    }
   ],
   "source": [
    "model_didiot.wv.doesnt_match(\"москва петербург\".split())"
   ]
  },
  {
   "cell_type": "code",
   "execution_count": 125,
   "metadata": {},
   "outputs": [
    {
     "data": {
      "text/plain": [
       "'поезд'"
      ]
     },
     "execution_count": 125,
     "metadata": {},
     "output_type": "execute_result"
    }
   ],
   "source": [
    "model_didiot.wv.doesnt_match(\"виновный убийство поезд\".split())"
   ]
  },
  {
   "cell_type": "code",
   "execution_count": 128,
   "metadata": {},
   "outputs": [
    {
     "data": {
      "text/plain": [
       "'встреча'"
      ]
     },
     "execution_count": 128,
     "metadata": {},
     "output_type": "execute_result"
    }
   ],
   "source": [
    "model_didiot.wv.doesnt_match(\"дорога встреча петербург\".split())"
   ]
  },
  {
   "cell_type": "code",
   "execution_count": 130,
   "metadata": {},
   "outputs": [
    {
     "data": {
      "text/plain": [
       "'смерть'"
      ]
     },
     "execution_count": 130,
     "metadata": {},
     "output_type": "execute_result"
    }
   ],
   "source": [
    "model_didiot.wv.doesnt_match(\"красота любовь смерть\".split())"
   ]
  },
  {
   "cell_type": "code",
   "execution_count": 135,
   "metadata": {},
   "outputs": [
    {
     "data": {
      "text/plain": [
       "'смерть'"
      ]
     },
     "execution_count": 135,
     "metadata": {},
     "output_type": "execute_result"
    }
   ],
   "source": [
    "model_didiot.wv.doesnt_match(\"красота любовь смерть состояние капитал вкус\".split())"
   ]
  },
  {
   "cell_type": "code",
   "execution_count": 136,
   "metadata": {},
   "outputs": [
    {
     "data": {
      "text/plain": [
       "'капитал'"
      ]
     },
     "execution_count": 136,
     "metadata": {},
     "output_type": "execute_result"
    }
   ],
   "source": [
    "model_didiot.wv.doesnt_match(\"красота любовь состояние капитал вкус\".split())"
   ]
  },
  {
   "cell_type": "code",
   "execution_count": 137,
   "metadata": {},
   "outputs": [
    {
     "data": {
      "text/plain": [
       "'любовь'"
      ]
     },
     "execution_count": 137,
     "metadata": {},
     "output_type": "execute_result"
    }
   ],
   "source": [
    "model_didiot.wv.doesnt_match(\"красота любовь состояние вкус\".split())"
   ]
  },
  {
   "cell_type": "code",
   "execution_count": 138,
   "metadata": {},
   "outputs": [
    {
     "data": {
      "text/plain": [
       "'состояние'"
      ]
     },
     "execution_count": 138,
     "metadata": {},
     "output_type": "execute_result"
    }
   ],
   "source": [
    "model_didiot.wv.doesnt_match(\"красота состояние вкус\".split())"
   ]
  },
  {
   "cell_type": "markdown",
   "metadata": {},
   "source": [
    "#### Comment: \n",
    "\n",
    "`most_similar` \n",
    "\n",
    "- The positive seems to be a default parameter since it apperat in the undefined contexts (see *любовь* and *нож*) \n",
    "- For the first names (see *настасья* and *лев*) most similar are the patronyms and the family names \n",
    "\n",
    "`similarity` \n",
    "\n",
    "- Similarity is \"the cosine similarity between the vectors of the two ...\" so its negative meaning reveals if the angle is more than 90•; \n",
    "\n",
    "\n",
    "`doesnt_match` \n",
    "\n",
    "- from the only two words the function returns every iteration the same word (see *петербург москва* and *москва петербург*). "
   ]
  },
  {
   "cell_type": "markdown",
   "metadata": {},
   "source": [
    "### 4. Visualize the results of the training and testing (one plot or one graph), comment on the visualization -- 2 points (1 point for the plot/graph, 1 point for the commentary)"
   ]
  },
  {
   "cell_type": "code",
   "execution_count": 141,
   "metadata": {},
   "outputs": [],
   "source": [
    "from sklearn.decomposition import PCA\n",
    "import matplotlib.pyplot as plt\n",
    "%matplotlib inline"
   ]
  },
  {
   "cell_type": "code",
   "execution_count": 146,
   "metadata": {},
   "outputs": [],
   "source": [
    "words = ['смерть', 'любовь', 'красота', 'состояние', 'вкус', 'капитал', 'знание']\n",
    "X = model_didiot[words]"
   ]
  },
  {
   "cell_type": "code",
   "execution_count": 147,
   "metadata": {},
   "outputs": [],
   "source": [
    "pca = PCA(n_components=2)\n",
    "coords = pca.fit_transform(X)"
   ]
  },
  {
   "cell_type": "code",
   "execution_count": 148,
   "metadata": {},
   "outputs": [
    {
     "data": {
      "image/png": "[encoded data removed]",
      "text/plain": [
       "<Figure size 432x288 with 1 Axes>"
      ]
     },
     "metadata": {
      "needs_background": "light"
     },
     "output_type": "display_data"
    }
   ],
   "source": [
    "plt.scatter(coords[:, 0], coords[:, 1], color='red')\n",
    "plt.title('Words')\n",
    "\n",
    "for i, word in enumerate(words):\n",
    "    plt.annotate(word, xy=(coords[i, 0], coords[i, 1]))\n",
    "plt.show()"
   ]
  },
  {
   "cell_type": "code",
   "execution_count": 155,
   "metadata": {},
   "outputs": [],
   "source": [
    "pca = PCA(n_components=2)\n",
    "pca.fit(model_didiot[list(model_didiot.wv.vocab)])\n",
    "coords = pca.transform(model_didiot[words])"
   ]
  },
  {
   "cell_type": "code",
   "execution_count": 156,
   "metadata": {},
   "outputs": [
    {
     "data": {
      "image/png": "[encoded data removed]",
      "text/plain": [
       "<Figure size 432x288 with 1 Axes>"
      ]
     },
     "metadata": {
      "needs_background": "light"
     },
     "output_type": "display_data"
    }
   ],
   "source": [
    "plt.scatter(coords[:, 0], coords[:, 1], color='red')\n",
    "plt.title('Words')\n",
    "\n",
    "for i, word in enumerate(words):\n",
    "    plt.annotate(word, xy=(coords[i, 0], coords[i, 1]))\n",
    "plt.show()"
   ]
  },
  {
   "cell_type": "code",
   "execution_count": null,
   "metadata": {},
   "outputs": [],
   "source": []
  },
  {
   "cell_type": "code",
   "execution_count": null,
   "metadata": {},
   "outputs": [],
   "source": []
  },
  {
   "cell_type": "code",
   "execution_count": null,
   "metadata": {},
   "outputs": [],
   "source": []
  }
 ],
 "metadata": {
  "kernelspec": {
   "display_name": "Python 3",
   "language": "python",
   "name": "python3"
  },
  "language_info": {
   "codemirror_mode": {
    "name": "ipython",
    "version": 3
   },
   "file_extension": ".py",
   "mimetype": "text/x-python",
   "name": "python",
   "nbconvert_exporter": "python",
   "pygments_lexer": "ipython3",
   "version": "3.8.3"
  }
 },
 "nbformat": 4,
 "nbformat_minor": 4
}
