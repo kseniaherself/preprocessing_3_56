{
 "cells": [
  {
   "cell_type": "markdown",
   "metadata": {},
   "source": [
    "# Final project "
   ]
  },
  {
   "cell_type": "markdown",
   "metadata": {},
   "source": [
    "### a program that analyzes fieldwork data "
   ]
  },
  {
   "cell_type": "markdown",
   "metadata": {},
   "source": [
    "For my final project I create database with my fieldwork materials For Abaza language. \n",
    "\n",
    "My fieldwork topic is comparative constructions. In Abaza there is a variability in usage of particles, which are translated as 'more', so as a result I want to draw a visualisation of the spekers' choice of them. \n",
    "\n",
    "The choice can depend on many parameters yet for me unknown, for example: type of a predicate, semantic features of an adjective, etc. \n",
    "\n",
    "__(Here, in the project, I do not pretend to make any statistical analysis but rather present my datum in more accessible way.)__ \n",
    "\n",
    "\n",
    "It contains these primary tables: \n",
    "- the sentencial examples, tag and gender of the consultant, and tags by _the_ particles; \n",
    "- the examples, tag and gender of the consultant, and tags by predicate type. \n",
    "\n",
    "\n",
    "In the tables the negative datum is not presented, thus there would be no lines with `0` in any of the particles columns or reaction. "
   ]
  },
  {
   "cell_type": "code",
   "execution_count": 32,
   "metadata": {},
   "outputs": [],
   "source": [
    "from pymystem3 import Mystem\n",
    "import pandas as pd\n",
    "import csv\n",
    "import sqlite3\n",
    "import requests"
   ]
  },
  {
   "cell_type": "markdown",
   "metadata": {},
   "source": [
    "First, I create a database with my primary tables: from `particles.csv` and `pedicate_types.csv` to `p_choice.db`. "
   ]
  },
  {
   "cell_type": "code",
   "execution_count": 72,
   "metadata": {},
   "outputs": [],
   "source": [
    "# my files \n",
    "\n",
    "df_particle = pd.read_csv('particles.csv', sep=';') #, encoding='utf-8') \n",
    "\n",
    "df_predicate = pd.read_csv('predicate_types.csv', sep=';')# , encoding='utf-8')"
   ]
  },
  {
   "cell_type": "code",
   "execution_count": 73,
   "metadata": {},
   "outputs": [],
   "source": [
    "# database creation \n",
    "\n",
    "con = sqlite3.connect(\"p_choice.db\") \n",
    "cur = con.cursor()"
   ]
  },
  {
   "cell_type": "code",
   "execution_count": 87,
   "metadata": {},
   "outputs": [],
   "source": [
    "# The tables are the same in many columns. \n",
    "\n",
    "df_particle.to_sql(name='particles', con=con, if_exists='replace') \n",
    "#print(df_particle.head())\n",
    "\n",
    "df_predicate.to_sql(name='predicates', con=con, if_exists='replace')\n",
    "#print(df_predicate.head())"
   ]
  },
  {
   "cell_type": "markdown",
   "metadata": {},
   "source": [
    "Next, I run few requests to my database. "
   ]
  },
  {
   "cell_type": "code",
   "execution_count": 88,
   "metadata": {},
   "outputs": [
    {
     "name": "stdout",
     "output_type": "stream",
     "text": [
      "[('Амир йацк1Ыс БорИс рЫц1а дх1аг1Ап1',), ('ауИ рЫц1а ласЫта дАпхьит1 сАцк1ыс',), ('Мурат сара сшыг1ва ацк1Ыс рЫц1а ласЫта дыдзцит1',), ('ауИ сАцк1ыс рЫц1а ласЫта дАпхьит1',), ('ауИ рах1А ласЫта дАпхьит1 сАцк1ыс',), ('ауИ рах1А ласЫта дАпхьит1 сАцк1ыс',), ('ауИ сАцк1ыс рах1А ласЫта дАпхьит1',), ('ауИ сарА сышг1вА Ацк1ыс рах1А ласЫта дАпхьит1',), ('ауИ сарА сышг1вА (с)ацк1Ыс рах1А ласЫта дАпхьит1',), ('ауИ даннЫкъвауа ацк1Ыс данЫг1вуа рах1А йайх1Ап1',), ('ЛИна рЫц1а дгвыбзЫгъап1 сшхъвыцуАз ацк1ыс',), ('амш рЫц1а йауырАп1 сшхъвыцуАз ацк1Ыс',), ('ахатшпЫ рЫц1а йц1Олап1 дышхъвЫцуа ацк1Ыс',), ('СултАн йытдзЫ рЫц1а йдуп1 Мух1амАд йбОра ацк1Ыс',), ('СултАн йтып атдзЫ рЫц1а йапшп1 Мух1амАд йбОра ацк1Ыс',), ('ауИ ласЫта рЫц1а дАпхьит1 сацк1Ыс',), ('ауИ ласЫта дАпхьит1 рЫц1а сацк1Ыс',), ('ауИ ласЫта дАпхьит1 сацк1Ыс рЫц1а',), ('ауИ рЫц1а сАцк1ыс ласЫта дАпхьит1',), ('ауИ сАцк1ыс ласЫта рЫц1а дАпхьит1',), ('ауИ сАцк1ыс ласЫта дАпхьит1 рЫц1а',), ('ауИ рЫц1а ласЫ дпхьадзИт1 са сшг1ва Ацк1ыс  ауАса сара псАйспата сг1вит1',), ('ауИ рЫц1а ласЫта дпхьадзИт1 са сшг1ва Ацк1ыс  ауАса сара псАйспата сг1вит1',), ('РуслАн ФатИма тшы шылг1вуА Ацк1ыс рЫц1а ласЫта дАпхьит1',), ('ауИ рЫц1а ласЫта дАпхьит1 сацк1Ыс',), ('ауИ сАцк1ыс рЫц1а ласЫта дАпхьит1',), ('ауИ рых1А сАцк1ыс ласЫта дАпхьит1',), ('ауИ сАцк1ыс ласЫта рах1А дАпхьит1',), ('ауИ сАцк1ыс ласЫта дАпхьит1 рах1А',), ('ауИ рах1А ласЫ дпхьадзИт1 са сшг1ва Ацк1ыс  ауАса сара псАйспата сг1вит1',), ('ауИ рах1А ласЫта дпхьадзИт1 са сшг1ва Ацк1ыс  ауАса сара псАйспата сг1вит1',), ('ауИ рах1А ласЫ дпхьадзИт1 са сшг1ва Ацк1ыс  ауАса ауИ дзАзап1  псАйспата дпхьадзит1',), ('ауИ рах1А ласЫта дпхьадзИт1 са сшг1ва Ацк1ыс  ауАса ауИ дзАзап1  псАйспата дпхьадзит1',), ('ауИ рах1А ласЫта дпхьадзИт1 са сшг1ва Ацк1ыс  ауАса ауИ псАйспата дпхьадзит1',), ('ауИ рах1А ласЫ дпхьадзИт1 са сшг1ва Ацк1ыс  ауАса ауИ псАйспата дпхьадзит1',), ('ауИ рах1А ласЫта дпхьадзИт1 са сшг1ва Ацк1ыс  ауАса ауИ псАйспата дпхьадзит1',), ('ауИ рах1А ласЫта дАпхьит1 сацк1Ыс',), ('ауИ сАцк1ыс рах1А ласЫта дАпхьит1',), ('РуслАн ФатИма тшы шылг1вуА Ацк1ыс рах1А ласЫта дАпхьит1',), ('ауИ рЫц1а ласЫта дАпхьит1 сшг1вуА ацк1Ыс',), ('ауИ рЫц1а сарА сышг1вуА Ацк1ыс ласЫта дАпхьит1',), ('ауИ сарА сышг1вуА ацк1Ыс рЫц1а ласЫта дАпхьит1',), ('ауИ сарА сышг1вуА Ацк1ыс ласЫта рЫц1а дАпхьит1',), ('ауИ сарА сышг1вА Ацк1ыс ласЫта дАпхьит1 рЫц1а',), ('МухамАд рЫц1а дсгвапхИт1 СултАн йацк1Ыс',), ('СултАн йацк1Ыс МухамАд рЫц1а дсгвапхИт1',), ('ауИ рЫц1а бзи дызбИт1 Мах1амАд йацк1Ыс',), ('сарА ацыгвквА рЫц1а бзи йзбит1 алаквА рацк1Ыс',), ('дымг1вайсуа ацк1Ыс рЫц1а дыг1вит1',), ('дымг1вайсуа ацк1Ыс рах1А дыг1вит1',), ('уыжжвЫ адзЫ (й)блит1  ауАса хвминутк1ла рЫц1а йхьуАшт1',), ('уыжжвЫ адзЫ блит1  ауАса уыжжвы ацк1Ыс хвминутк1 йахъыц1рквын рЫц1а йхьуАшт1  апещ хьшвАшва апнЫ',)]\n"
     ]
    }
   ],
   "source": [
    "# query 1 \n",
    "# Examples from male speakers. \n",
    "\n",
    "cur.execute('SELECT sentence FROM particles WHERE gender = \\'m\\' ')\n",
    "print(cur.fetchall())"
   ]
  },
  {
   "cell_type": "code",
   "execution_count": 89,
   "metadata": {},
   "outputs": [
    {
     "name": "stdout",
     "output_type": "stream",
     "text": [
      "[(236,)]\n"
     ]
    }
   ],
   "source": [
    "# query 2 \n",
    "# Number of examples with particle rec'a (out of 400) \n",
    "\n",
    "# cur.execute('SELECT sentence FROM particles WHERE reca=1')\n",
    "cur.execute('SELECT COUNT(sentence) FROM particles WHERE reca=1')\n",
    "\n",
    "print(cur.fetchall())"
   ]
  },
  {
   "cell_type": "code",
   "execution_count": 90,
   "metadata": {},
   "outputs": [
    {
     "name": "stdout",
     "output_type": "stream",
     "text": [
      "[('ЗарИна хынла рЫц1а ФатИма лацк1Ыс дх1аг1ап1',), ('ЗарИна ФатИма лацк1Ыс рЫц1а хынла дх1аг1ап1',), ('асабИква агвАш рЫц1а пшдза йыршвЫт1',), ('асабИква агвАш рЫц1а пшдза йыршвЫт1  адУква рацк1Ыс',), ('асабИква агвАш рЫц1а пшдза йыршвЫт1 абльЫнква рац1к1Ыс',), ('асабИква агвАш рЫц1а пшдза йыршвЫт1 са сацк1Ыс',), ('асабИква агвАш рЫц1а пшдза йыршвЫт1 ба бацк1Ыс',), ('ауИ сацк1Ыс рах1А ддуп1',), ('МурАт алА ацк1Ыс рах1А ддуп1',), ('ажв рах1А йдуп1 Мурат йацк1Ыс',), ('ажв МурАт йацк1Ыс рах1А йдуп1',), ('ЗарИна г1ванла рах1А ФатИма лАцк1ыс дх1аг1ап1',), ('ЗарИна рах1А г1ванла ФатИма лАцк1ыс дх1аг1ап1',), ('ЗарИна ФатИма лацк1Ыс рах1А хынла дх1аг1ап1',), ('ЗарИна г1ванла ФатИма лацк1Ыс рах1А дх1аг1ап1',), ('арИ Апьхарта рах1А-рах1А бзи йызбауА сАлагат1',), ('арИ Апьхарта рах1А бзи йызбауА сАлагат1',), ('х1пахь йгЫлу Ац1ла ансисквшЫ рах1А-рах1А йАлах1ит1',), ('ФатИма тшы лг1вындзЫкьа Ацк1ыс РуслАн рЫц1а ласЫ дАпхьит1',), ('ауИ рЫц1а ласЫ дЫг1вит1 сарА сАцк1ыс',), ('ауИ рЫц1а ласЫ дЫг1вит1 са сАцк1ыс',), ('ауИ рЫц1а ласЫ дЫг1вит1 сацк1Ыс',), ('ауИ рЫц1а ласЫ дЫг1вит1 са(ра) сацк1Ыс',), ('ауИ сацк1ыс рЫц1а ласЫ дЫг1вит1',), ('ауИ рЫц1а ласЫта дЫг1вит1 сарА сацк1ыс',), ('ауИ рЫц1а ласЫта дЫг1вит1 са сацк1ыс',), ('ауИ рЫц1а ласЫта дЫг1вит1 сацк1ыс',), ('Абага рЫц1а ласЫ йЫг1вит1 ажьа ацк1ыс',), ('Абага рЫц1а ласЫта йЫг1вит1 ажьа ацк1ыс',), ('аба рЫц1а ласЫ дчит1 йпа йацк1Ыс',), ('аба рЫц1а щарда йфит1 йпа йацк1Ыс',), ('ажв рЫц1а йдуп1 МурАт йацк1Ыс',), ('ауИ рах1А ласЫ дЫг1вит1 са(ра) сацк1ыс',), ('са сацк1Ыс ауи рах1А ласЫ дЫг1вит1',), ('РуслАни ЗарИни йг1аг1вит1  ауИ рах1А ласЫ дЫг1вит1 лара лацк1Ыс',), ('ауИ рах1А ласЫ дЫг1вит1 сара сАцк1ыс',), ('ауИ рах1А ласЫ дЫг1вит1 са сАцк1ыс',), ('ауИ рах1А ласЫ дЫг1вит1 сацк1Ыс',), ('ауИ рах1А ласЫта дЫг1вит1 сара сацк1ыс',), ('ауИ рах1А ласЫта дЫг1вит1 са сацк1ыс',), ('ауИ рах1А ласЫта дЫг1вит1 сацк1ыс',), ('Абага рах1А ласЫ йЫг1вит1 ажьа ацк1ыс',), ('Абага рах1А ласЫта йЫг1вит1 ажьа ацк1ыс',), ('аба рах1А ласЫ дчит1 йпа йацк1Ыс',), ('аба рах1А щарда йфит1 йпа йацк1Ыс',), ('ауИ рах1А ласЫ дЫг1вит1 лара лацк1Ыс',), ('ачвынцквА сщындзЫкьа Руслан рах1А ласЫ дг1Аг1вашт1',), ('Абага рЫц1а йЫг1вит1 Ажьа ацк1Ыс',), ('аба рЫц1а дчит1 йпа йацк1Ыс',), ('ауИ рЫц1а дыг1вит1 дымг1вайсуа ацк1Ыс',), ('ЗарИна рЫц1а дсгвапхИт1 ДиАна лацк1Ыс',), ('ЗарИна рЫц1а дсгвапхИт1 РуслАн йацк1Ыс',), ('са уарАд сх1варнЫс рЫц1а йг1Алсхит1 сг1ах1вырнЫс ацк1Ыс',), ('са уарАд сх1варнЫс рЫц1а бзи йызбИт1 Руслан йацк1Ыс',), ('са уарАд сх1варнЫс рЫц1а йг1Алсхит1 Руслан йацк1Ыс',), ('уарАд х1варА рЫц1а бзи йызбИт1 РуслАн йацк1Ыс',), ('ЗарИна рЫц1а дсгвапхИт1 уарАд сх1варныс ацк1Ыс',), ('арИ Апьхарта рЫц1а-рЫц1а бзи йызбауА сАлагат1',), ('арИ Апьхарта рЫц1а бзи йызбауА сАлагат1',), ('Абага рЫц1а йшвИт1 аквЫджьма ацк1ыс',), ('сара х1Аба йацк1Ыс х1ан рах1А бзи дызбит1',), ('РуслАн ЗарИна лацк1ыс рах1А бзи дЫг1вит1',), ('аба рах1А дчит1 йпа йацк1Ыс',), ('аг1щаг1вЫ рах1А дЫчвырныс бзи йбит1 дынхарнЫс ацк1Ыс',), ('Апхьаг1в рах1А дычвИт1 дынхауА ацк1Ыс',)]\n"
     ]
    }
   ],
   "source": [
    "# query 3 \n",
    "# Examples by speaker encoded as '3' \n",
    "\n",
    "cur.execute('SELECT sentence FROM predicates WHERE consultant_id = 3')\n",
    "print(cur.fetchall())"
   ]
  },
  {
   "cell_type": "markdown",
   "metadata": {},
   "source": [
    "Then I will provide visualizations by some parameters. "
   ]
  },
  {
   "cell_type": "code",
   "execution_count": 91,
   "metadata": {},
   "outputs": [],
   "source": [
    "import matplotlib.pyplot as plt\n",
    "import seaborn as sns"
   ]
  },
  {
   "cell_type": "code",
   "execution_count": 96,
   "metadata": {},
   "outputs": [
    {
     "data": {
      "text/plain": [
       "Text(0.5, 1.0, 'Proportion of examples')"
      ]
     },
     "execution_count": 96,
     "metadata": {},
     "output_type": "execute_result"
    },
    {
     "data": {
      "image/png": "[encoded data removed]",
      "text/plain": [
       "<Figure size 504x504 with 1 Axes>"
      ]
     },
     "metadata": {},
     "output_type": "display_data"
    }
   ],
   "source": [
    "# Illustration of amount of sentences by each speaker. \n",
    "\n",
    "df_particle.groupby('consultant_id').sentence.count().plot(figsize=(7,7), kind='pie')\n",
    "plt.title('Proportion of examples')"
   ]
  },
  {
   "cell_type": "markdown",
   "metadata": {},
   "source": [
    "On the next chart I present the proportion of _rə́t͡s’a_ 'more' particle used with different typrs of predicates, which are verbs, adj = adjectives, adv = adverbs. The total number of examples in the database is 400, so I calculate proportion as follows: \n",
    "\n",
    "$$rə́t͡s’a = \\frac{\\sum {reca} *{100\\%} } {400}$$ "
   ]
  },
  {
   "cell_type": "code",
   "execution_count": 183,
   "metadata": {},
   "outputs": [
    {
     "data": {
      "image/png": "[encoded data removed]",
      "text/plain": [
       "<Figure size 432x288 with 1 Axes>"
      ]
     },
     "metadata": {
      "needs_background": "light"
     },
     "output_type": "display_data"
    }
   ],
   "source": [
    "# Here I present distribution of particle choice by predicate type \n",
    "\n",
    "(cur.execute('SELECT particles.reca, predicates.parameter_type FROM particles, predicates WHERE particles.sentence = predicates.sentence'))\n",
    "# df_2 = (cur.execute('SELECT particles.sentence, particles.reca, predicates.sentence, predicates.parameter_type FROM particles, predicates WHERE particles.sentence = predicates.sentence'))\n",
    "outp = cur.fetchall()\n",
    "#print(outp) \n",
    "\n",
    "f_df = []\n",
    "for line in outp: \n",
    "    l_line = str(line)\n",
    "    #print(l_line)\n",
    "    m_line = l_line.replace('(', '')\n",
    "    n_line = m_line.replace(')', '')\n",
    "    #print(n_line)\n",
    "    o_line = n_line.replace(\"'\", \"\")\n",
    "    #print(o_line)\n",
    "    \n",
    "    p_line = o_line.split(',')\n",
    "    ll_line = []\n",
    "    for word in p_line: \n",
    "        if word == '1' or word == '0': \n",
    "            ll_line.append(int(word))\n",
    "        #elif word == '0': \n",
    "        #    ll_line.append(int(word))\n",
    "        else: \n",
    "            ll_line.append(word)\n",
    "    #print(ll_line)\n",
    "    f_df.append(ll_line)\n",
    "    \n",
    "#print(f_df)\n",
    "    \n",
    "n_adj = 0\n",
    "n_adv = 0\n",
    "n_verb = 0 \n",
    "\n",
    "for elem in f_df:\n",
    "    #print(elem)\n",
    "    if elem[1] == ' adj':\n",
    "        #print(elem[1])\n",
    "        if elem[0] == 1: \n",
    "            n_adj = n_adj + 1 \n",
    "    elif elem[1] == ' adv': \n",
    "        if elem[0] == 1: \n",
    "            n_adv = n_adv + 1 \n",
    "    elif elem[1] == ' verb': \n",
    "        if elem[0] == 1: \n",
    "            n_verb = n_verb + 1 \n",
    "            \n",
    "#print(n_adj)\n",
    "data = [[(n_adj/4), 'adj'], [(n_adv/4), 'adv'], [(n_verb/4), 'verb']] \n",
    "\n",
    "df = pd.DataFrame(data, columns=[\"reca_percent\", \"predicate_type\"])\n",
    "df\n",
    "\n",
    "\n",
    "sns.barplot(x=\"predicate_type\", y=\"reca_percent\", data=df)\n",
    "plt.title('Particle choice by predicate type')\n",
    "plt.xlabel('predicate type')\n",
    "plt.ylabel('Proportion of particle rə́t͡s’a') \n",
    "\n",
    "plt.show()"
   ]
  },
  {
   "cell_type": "markdown",
   "metadata": {},
   "source": [
    "Although these graphs, piechart and barchard, illustrate only part of my parsed data, I can use it further to make visualisations and calculations for the research. "
   ]
  }
 ],
 "metadata": {
  "kernelspec": {
   "display_name": "Python 3",
   "language": "python",
   "name": "python3"
  },
  "language_info": {
   "codemirror_mode": {
    "name": "ipython",
    "version": 3
   },
   "file_extension": ".py",
   "mimetype": "text/x-python",
   "name": "python",
   "nbconvert_exporter": "python",
   "pygments_lexer": "ipython3",
   "version": "3.8.3"
  }
 },
 "nbformat": 4,
 "nbformat_minor": 4
}
